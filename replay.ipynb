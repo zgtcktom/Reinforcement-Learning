{
 "cells": [
  {
   "cell_type": "code",
   "execution_count": 1,
   "metadata": {},
   "outputs": [],
   "source": [
    "from timeit import timeit\n",
    "from collections import deque\n",
    "import random\n",
    "import numpy as np\n"
   ]
  },
  {
   "cell_type": "code",
   "execution_count": 2,
   "metadata": {},
   "outputs": [
    {
     "name": "stdout",
     "output_type": "stream",
     "text": [
      "[array([[0.37235918, 0.06632025],\n",
      "       [0.745442  , 0.16088088],\n",
      "       [0.91000152, 0.61211501]]), array([[[0.06057086, 0.11134378],\n",
      "        [0.58673288, 0.41892727]],\n",
      "\n",
      "       [[0.59526653, 0.68742928],\n",
      "        [0.01005504, 0.17475121]],\n",
      "\n",
      "       [[0.22998924, 0.8636551 ],\n",
      "        [0.81916981, 0.63225377]]]), array([[7.],\n",
      "       [8.],\n",
      "       [9.]])]\n",
      "2.0559278\n"
     ]
    }
   ],
   "source": [
    "class Memory:\n",
    "    def __init__(self, maxlen=1000000):\n",
    "        self.buffer = deque(maxlen=maxlen)\n",
    "        \n",
    "    def add(self, data):\n",
    "        self.buffer.append(data)\n",
    "       \n",
    "    def _atleast2d(self, sample): # ensure at least shape (size, 1) instead of (size,)\n",
    "        sample = np.asarray(sample, dtype=np.float64)\n",
    "        return np.expand_dims(sample, axis=1) if sample.ndim < 2 else sample\n",
    "    \n",
    "    def replay(self, size):\n",
    "        samples = random.sample(self.buffer, size)\n",
    "        samples = [self._atleast2d(sample) for sample in zip(*samples)]\n",
    "        return samples\n",
    "\n",
    "if 1:\n",
    "    m = Memory()\n",
    "    for i in range(10000):\n",
    "        item = (np.random.random_sample(2), \n",
    "                np.random.random_sample((2, 2)), \n",
    "                np.random.randint(10))\n",
    "        m.add(item)\n",
    "    print(m.replay(3))\n",
    "    print(timeit(lambda: m.replay(100), number=10000))"
   ]
  },
  {
   "cell_type": "code",
   "execution_count": 3,
   "metadata": {},
   "outputs": [
    {
     "name": "stdout",
     "output_type": "stream",
     "text": [
      "[array([[0.61193401, 0.33160072],\n",
      "       [0.10319404, 0.12240532],\n",
      "       [0.87117798, 0.16350619]]), array([[[0.36142822, 0.37810365],\n",
      "        [0.10004135, 0.51572993]],\n",
      "\n",
      "       [[0.02454501, 0.96184037],\n",
      "        [0.61052739, 0.01314555]],\n",
      "\n",
      "       [[0.64731077, 0.43732689],\n",
      "        [0.17671534, 0.17246948]]]), array([[6.],\n",
      "       [4.],\n",
      "       [8.]])]\n",
      "2.5074254000000002\n"
     ]
    }
   ],
   "source": [
    "class CycleMemory:\n",
    "    def __init__(self, shapes, maxlen=1000000):\n",
    "        self.buffers = []\n",
    "        self.begin = 0\n",
    "        self.size = 0\n",
    "        self.maxlen = maxlen\n",
    "        for shape in shapes:\n",
    "            self.buffers.append(np.zeros((maxlen,) + shape, dtype=np.float64))\n",
    "            \n",
    "    def add(self, data):\n",
    "        for i, buffer in enumerate(self.buffers):\n",
    "            buffer[self.begin] = data[i]\n",
    "        self.begin = (self.begin + 1) % self.maxlen\n",
    "        self.size = min(self.maxlen, self.size + 1)\n",
    "    \n",
    "    def replay(self, size):\n",
    "        idx = np.random.choice(np.arange(self.size), size, replace=False)\n",
    "        samples = [buffer[idx] for buffer in self.buffers]\n",
    "        return samples\n",
    "    \n",
    "if 1:\n",
    "    m = CycleMemory(((2,), (2, 2), (1,)))\n",
    "    for i in range(10000):\n",
    "        item = (np.random.random_sample(2), \n",
    "                np.random.random_sample((2, 2)), \n",
    "                np.random.randint(10))\n",
    "        m.add(item)\n",
    "    print(m.replay(3))\n",
    "    print(timeit(lambda: m.replay(100), number=10000))"
   ]
  },
  {
   "cell_type": "code",
   "execution_count": 20,
   "metadata": {},
   "outputs": [
    {
     "name": "stdout",
     "output_type": "stream",
     "text": [
      "(16387, 0.9572278784560172, (0.7687477743251352,))\n"
     ]
    }
   ],
   "source": [
    "class SumTree:\n",
    "    def __init__(self, capacity=1000000):\n",
    "        self.capacity = capacity\n",
    "        self.tree = np.zeros(2 * capacity - 1)\n",
    "        self.data = np.zeros(capacity, dtype=object)\n",
    "        self.size = 0\n",
    "        self.begin = 0\n",
    "    \n",
    "    def update(self, i, p):\n",
    "        change = p - self.tree[i]\n",
    "        while i != 0:\n",
    "            self.tree[i] += change\n",
    "            i = (i - 1) // 2\n",
    "        self.tree[0] += change\n",
    "    \n",
    "    def add(self, data, p):\n",
    "        self.data[self.begin] = data\n",
    "        self.update(self.begin + self.capacity - 1, p)\n",
    "        self.begin = (self.begin + 1) % self.capacity\n",
    "        \n",
    "    def get(self, p):\n",
    "        i = 0\n",
    "        while 1:\n",
    "            left = 2 * i + 1\n",
    "            if left >= len(self.tree):\n",
    "                break\n",
    "            if p <= self.tree[left]:\n",
    "                # one of left children\n",
    "                i = left\n",
    "            else:\n",
    "                # one of right children\n",
    "                p -= self.tree[left]\n",
    "                i = left + 1\n",
    "        return i, self.tree[i], self.data[i - self.capacity + 1]\n",
    "    \n",
    "    def total(self):\n",
    "        return self.tree[0]\n",
    "    \n",
    "if 1:\n",
    "    m = SumTree(10000)\n",
    "    for i in range(10000):\n",
    "        item = (np.random.random_sample(),)\n",
    "        m.add(item, np.random.random_sample())\n",
    "    p = np.random.random_sample()\n",
    "    print(m.get(p))"
   ]
  },
  {
   "cell_type": "code",
   "execution_count": 21,
   "metadata": {},
   "outputs": [],
   "source": [
    "m = SumTree(8)\n",
    "m.add(0, 1)\n",
    "m.add(0, 2)\n",
    "m.add(0, 3)\n",
    "m.add(0, 4)\n",
    "m.add(0, 5)\n",
    "m.add(0, 6)\n",
    "m.add(0, 7)\n",
    "m.add(0, 8)"
   ]
  },
  {
   "cell_type": "code",
   "execution_count": 22,
   "metadata": {},
   "outputs": [
    {
     "data": {
      "text/plain": [
       "array([36., 10., 26.,  3.,  7., 11., 15.,  1.,  2.,  3.,  4.,  5.,  6.,\n",
       "        7.,  8.])"
      ]
     },
     "execution_count": 22,
     "metadata": {},
     "output_type": "execute_result"
    }
   ],
   "source": [
    "m.tree"
   ]
  },
  {
   "cell_type": "code",
   "execution_count": 58,
   "metadata": {},
   "outputs": [
    {
     "name": "stdout",
     "output_type": "stream",
     "text": [
      "([(0.051340898331771245, 0.08944069082966277), (0.4859057206552321, 0.3589452722354254), (0.7982979104012583, 0.8808265911141573)], array([0.85149094, 1.        , 0.8967107 ]), [1001693, 1003548, 1007212])\n"
     ]
    }
   ],
   "source": [
    "class PrioritizedMemory:\n",
    "    def __init__(self, capacity=1000000):\n",
    "        self.tree = SumTree(capacity)\n",
    "        # proportional prioritization\n",
    "        '''pi = |δi| + e'''\n",
    "        self.e = 0.001\n",
    "        self.a = 0.6\n",
    "        self.b = 0.4\n",
    "        self.decay = 0.001\n",
    "        \n",
    "    def _priority(self, error):\n",
    "        p = (np.abs(error) + self.e) ** self.a\n",
    "        return p\n",
    "        \n",
    "    def add(self, data, error):\n",
    "        p = self._priority(error)\n",
    "        self.tree.add(data, p)\n",
    "        \n",
    "    def update(self, i, error):\n",
    "        p = self._priority(error)\n",
    "        self.tree.update(i, p)\n",
    "        \n",
    "    def replay(self, size):\n",
    "        indices = []\n",
    "        priorities = []\n",
    "        samples = []\n",
    "        segment = self.tree.total() / size\n",
    "        for i in range(size):\n",
    "            num = np.random.uniform(segment * i, segment * (i + 1))\n",
    "            index, priority, sample = self.tree.get(num)\n",
    "            indices.append(index)\n",
    "            priorities.append(priority)\n",
    "            samples.append(sample)\n",
    "            \n",
    "        '''importance-sampling (IS) weights: wi = (N * P(i))**-β / max(w)'''\n",
    "        probs = priorities / self.tree.total()\n",
    "        IS_weights = (size * probs) ** -self.b\n",
    "        IS_weights = IS_weights / np.amax(IS_weights)\n",
    "        \n",
    "        self.b += self.decay * (1 - self.b)\n",
    "        \n",
    "        return samples, IS_weights, indices\n",
    "        \n",
    "if 1:\n",
    "    m = PrioritizedMemory()\n",
    "    for i in range(10000):\n",
    "        item = (np.random.random(), np.random.random())\n",
    "        m.add(item, np.random.random())\n",
    "    print(m.replay(3))"
   ]
  },
  {
   "cell_type": "code",
   "execution_count": 64,
   "metadata": {},
   "outputs": [
    {
     "name": "stdout",
     "output_type": "stream",
     "text": [
      "0.40359101199100356\n"
     ]
    },
    {
     "data": {
      "text/plain": [
       "([(0.5161801708296251, 0.8131248616494949),\n",
       "  (0.1988314523075394, 0.7893820313656182),\n",
       "  (0.16880882565731004, 0.8670205680389228)],\n",
       " array([1.        , 0.90036991, 0.95638131]),\n",
       " [1000636, 1006625, 1006979])"
      ]
     },
     "execution_count": 64,
     "metadata": {},
     "output_type": "execute_result"
    }
   ],
   "source": [
    "print(m.b)\n",
    "m.replay(3)"
   ]
  },
  {
   "cell_type": "code",
   "execution_count": null,
   "metadata": {},
   "outputs": [],
   "source": []
  }
 ],
 "metadata": {
  "kernelspec": {
   "display_name": "Python 3",
   "language": "python",
   "name": "python3"
  },
  "language_info": {
   "codemirror_mode": {
    "name": "ipython",
    "version": 3
   },
   "file_extension": ".py",
   "mimetype": "text/x-python",
   "name": "python",
   "nbconvert_exporter": "python",
   "pygments_lexer": "ipython3",
   "version": "3.7.9"
  }
 },
 "nbformat": 4,
 "nbformat_minor": 4
}
